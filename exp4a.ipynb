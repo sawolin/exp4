{
 "cells": [
  {
   "cell_type": "code",
   "execution_count": 1,
   "metadata": {
    "collapsed": false
   },
   "outputs": [
    {
     "name": "stdout",
     "output_type": "stream",
     "text": [
      "Populating the interactive namespace from numpy and matplotlib\n"
     ]
    }
   ],
   "source": [
    "%pylab inline --no-import-all"
   ]
  },
  {
   "cell_type": "code",
   "execution_count": 81,
   "metadata": {
    "collapsed": false,
    "scrolled": true
   },
   "outputs": [
    {
     "name": "stdout",
     "output_type": "stream",
     "text": [
      "[-0.041 -0.041 -0.04  ..., -0.042 -0.042 -0.041]\n",
      "[-4.063 -4.024 -3.984 ..., -4.149 -4.108 -4.068]\n"
     ]
    }
   ],
   "source": [
    "C_data, V_data= np.loadtxt(\"vvc.txt\", skiprows=2, unpack=True)\n",
    "print C_data\n",
    "print V_data"
   ]
  },
  {
   "cell_type": "code",
   "execution_count": 82,
   "metadata": {
    "collapsed": false
   },
   "outputs": [],
   "source": [
    "def func(c,a,b):\n",
    "    return a + b*c"
   ]
  },
  {
   "cell_type": "code",
   "execution_count": 83,
   "metadata": {
    "collapsed": false
   },
   "outputs": [],
   "source": [
    "from pylab import * \n",
    "from scipy.optimize import curve_fit\n",
    "a_fit,cov=curve_fit(func,C_data,V_data)"
   ]
  },
  {
   "cell_type": "code",
   "execution_count": 84,
   "metadata": {
    "collapsed": false
   },
   "outputs": [],
   "source": [
    "slope = a_fit[1]\n",
    "inter = a_fit[0]\n",
    "d_slope = sqrt(cov[1][1])\n",
    "d_inter = sqrt(cov[0][0])"
   ]
  },
  {
   "cell_type": "code",
   "execution_count": 85,
   "metadata": {
    "collapsed": false
   },
   "outputs": [
    {
     "name": "stdout",
     "output_type": "stream",
     "text": [
      "The slope = 99.3201, with uncertainty 0.0310766\n",
      "The intercept = 0.0129303, with uncertainty 0.0009045\n"
     ]
    }
   ],
   "source": [
    "print('The slope = %g, with uncertainty %g' % (slope,d_slope))\n",
    "print('The intercept = %g, with uncertainty %g' % (inter,d_inter))"
   ]
  },
  {
   "cell_type": "code",
   "execution_count": 91,
   "metadata": {
    "collapsed": false,
    "scrolled": false
   },
   "outputs": [
    {
     "data": {
      "text/plain": [
       "<matplotlib.legend.Legend at 0xe61a978>"
      ]
     },
     "execution_count": 91,
     "metadata": {},
     "output_type": "execute_result"
    },
    {
     "data": {
      "image/png": "[encoded data removed]",
      "text/plain": [
       "<matplotlib.figure.Figure at 0xf80d978>"
      ]
     },
     "metadata": {},
     "output_type": "display_data"
    }
   ],
   "source": [
    "from pylab import  *\n",
    "scatter(C,V,s=0.05, label='Data', alpha=1, color='r')\n",
    "V_fit = inter + slope*C_data\n",
    "plot(C_data,V_fit,label='Fit', alpha=0.5)\n",
    "xlabel('Current (A)')\n",
    "ylabel('Voltage (V)')\n",
    "title('Current vs Voltage')\n",
    "legend()"
   ]
  }
 ],
 "metadata": {
  "kernelspec": {
   "display_name": "Python 2",
   "language": "python",
   "name": "python2"
  },
  "language_info": {
   "codemirror_mode": {
    "name": "ipython",
    "version": 2
   },
   "file_extension": ".py",
   "mimetype": "text/x-python",
   "name": "python",
   "nbconvert_exporter": "python",
   "pygments_lexer": "ipython2",
   "version": "2.7.11"
  }
 },
 "nbformat": 4,
 "nbformat_minor": 0
}
